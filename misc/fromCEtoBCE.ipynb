{
 "cells": [
  {
   "cell_type": "markdown",
   "metadata": {},
   "source": [
    "# From Cross Entropy to Binary Cross Entropy"
   ]
  },
  {
   "cell_type": "markdown",
   "metadata": {},
   "source": [
    "## <font color='red'>WARNING!</font> It's my personal vision :)"
   ]
  },
  {
   "cell_type": "markdown",
   "metadata": {},
   "source": [
    "$ -\\sum\\limits_{i=1}^n \\sum\\limits_{j=1}^m y_{ij} \\ln{(p_{ij})} $\n",
    "\n",
    "where $n$ - number of samples $m$ - number of classes.\n",
    "\n",
    "In two class problem ($m = 2$):\n",
    "\n",
    "$ -\\sum\\limits_{i=1}^n y_{i1} \\ln{(p_{i1})} + y_{i2} \\ln{(p_{i2})} $\n",
    "\n",
    "we use $sigmoid$ that returns single value ($p_{i}$ for each $i$ sample) in range between 0 and 1 (because $sigmoid$ is probalistic function). Lower output values correspond to class 1 and higher to class 2 respectively. So, we can type the following $ p_{i1} + p_{i2} = 1$, and:\n",
    "\n",
    "$ -\\sum\\limits_{i=1}^n y_{i1} \\ln{(p_{i1})} + y_{i2} \\ln{(1 - p_{i1})} $\n",
    "\n",
    "In two class problem the second class can be presented as reversed version of class 1: $ y_{i2} = 1 - y_{i2} $:\n",
    "\n",
    "$ -\\sum\\limits_{i=1}^n y_{i1} \\ln{(p_{i1})} + (1 - y_{i1}) \\ln{(1 - p_{i1})} $\n",
    "\n",
    "And now treating $ p_{i1} $ as output of sigmoid, and $ y_{i1} $ as label (since in two class problem we have only one dimensional label), so we can rewrite previous equation as follows:\n",
    "\n",
    "$ -\\sum\\limits_{i=1}^n y_{i} \\ln{(p_{i})} + (1 - y_{i}) \\ln{(1 - p_{i})} $"
   ]
  },
  {
   "cell_type": "code",
   "execution_count": null,
   "metadata": {},
   "outputs": [],
   "source": []
  }
 ],
 "metadata": {
  "kernelspec": {
   "display_name": "Python 3",
   "language": "python",
   "name": "python3"
  },
  "language_info": {
   "codemirror_mode": {
    "name": "ipython",
    "version": 3
   },
   "file_extension": ".py",
   "mimetype": "text/x-python",
   "name": "python",
   "nbconvert_exporter": "python",
   "pygments_lexer": "ipython3",
   "version": "3.7.0"
  }
 },
 "nbformat": 4,
 "nbformat_minor": 2
}
